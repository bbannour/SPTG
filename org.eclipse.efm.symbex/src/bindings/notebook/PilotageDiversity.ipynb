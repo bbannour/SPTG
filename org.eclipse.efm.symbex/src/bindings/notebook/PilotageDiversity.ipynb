{
 "cells": [
  {
   "cell_type": "markdown",
   "metadata": {},
   "source": [
    "# Diversity Python User Interface"
   ]
  },
  {
   "cell_type": "markdown",
   "metadata": {},
   "source": [
    "Also known as \"Pyversity\""
   ]
  },
  {
   "cell_type": "markdown",
   "metadata": {},
   "source": [
    "Load diversity python module"
   ]
  },
  {
   "cell_type": "code",
   "execution_count": 1,
   "metadata": {
    "scrolled": false
   },
   "outputs": [],
   "source": [
    "from pyversity import *"
   ]
  },
  {
   "cell_type": "markdown",
   "metadata": {},
   "source": [
    "Create a system"
   ]
  },
  {
   "cell_type": "code",
   "execution_count": 2,
   "metadata": {},
   "outputs": [
    {
     "name": "stdout",
     "output_type": "stream",
     "text": [
      "@xlia< system , 1.0 >:\n",
      "\n",
      "system HelloWorld {\n",
      "}\n",
      "\n",
      "@xlia< system , 1.0 >:\n",
      "\n",
      "timed#discrete system HelloWorld {\n",
      "}\n",
      "\n",
      "@xlia< system , 1.0 >:\n",
      "\n",
      "timed#continuous system HelloWorld {\n",
      "}\n",
      "\n"
     ]
    }
   ],
   "source": [
    "system = System(\"HelloWorld\")\n",
    "system2 = System(\"HelloWorld\", timed=\"discrete\")\n",
    "system3 = System(\"HelloWorld\", timed=\"continuous\")\n",
    "print(system)\n",
    "print(system2)\n",
    "print(system3)"
   ]
  },
  {
   "cell_type": "markdown",
   "metadata": {},
   "source": [
    "Have a look into it"
   ]
  },
  {
   "cell_type": "code",
   "execution_count": 3,
   "metadata": {},
   "outputs": [
    {
     "name": "stdout",
     "output_type": "stream",
     "text": [
      "HelloWorld\n",
      "@xlia< system , 1.0 >:\n",
      "\n",
      "system HelloWorld {\n",
      "}\n",
      "\n"
     ]
    },
    {
     "data": {
      "image/png": "[encoded data removed]",
      "text/plain": [
       "<IPython.core.display.Image object>"
      ]
     },
     "execution_count": 3,
     "metadata": {},
     "output_type": "execute_result"
    }
   ],
   "source": [
    "print(repr(system)) # Identifier name (normally reserved to developers)\n",
    "print(system)       # Fully detailed description\n",
    "display(system)     # Graphical visualization (system only at the moment)"
   ]
  },
  {
   "cell_type": "markdown",
   "metadata": {},
   "source": [
    "Create a state machine"
   ]
  },
  {
   "cell_type": "code",
   "execution_count": 4,
   "metadata": {},
   "outputs": [],
   "source": [
    "#sm1 = StateMachine(\"sm1\")\n",
    "#sm2 = StateMachine(\"sm2\")\n",
    "#print(repr(sm1), repr(sm2))\n",
    "#print(sm1)\n",
    "#print(sm2)"
   ]
  },
  {
   "cell_type": "markdown",
   "metadata": {},
   "source": [
    "Add the state machine to the system"
   ]
  },
  {
   "cell_type": "code",
   "execution_count": 5,
   "metadata": {},
   "outputs": [
    {
     "name": "stdout",
     "output_type": "stream",
     "text": [
      "@xlia< system , 1.0 >:\n",
      "\n",
      "system HelloWorld {\n",
      "@composite:\n",
      "\tstatemachine< or > sm1 {\n",
      "\t}\n",
      "\n",
      "\tstatemachine< or > sm2 {\n",
      "\t}\n",
      "}\n",
      "\n"
     ]
    },
    {
     "data": {
      "image/png": "[encoded data removed]",
      "text/plain": [
       "<IPython.core.display.Image object>"
      ]
     },
     "execution_count": 5,
     "metadata": {},
     "output_type": "execute_result"
    }
   ],
   "source": [
    "sm1 = system.addStateMachine(\"sm1\")\n",
    "sm2 = system.addStateMachine(\"sm2\")\n",
    "print(system)\n",
    "display(system)"
   ]
  },
  {
   "cell_type": "markdown",
   "metadata": {},
   "source": [
    "Add states to the state machine (__Caution: Elements names should not contain whitespaces or special characters '#' and ':'__)"
   ]
  },
  {
   "cell_type": "code",
   "execution_count": 6,
   "metadata": {
    "scrolled": true
   },
   "outputs": [
    {
     "name": "stdout",
     "output_type": "stream",
     "text": [
      "state< initial > Begin {\n",
      "}\n",
      "\n",
      "statemachine< or > sm2 {\n",
      "@region:\n",
      "\tstate< initial > One {\n",
      "\t}\n",
      "\n",
      "\tstate Two {\n",
      "\t}\n",
      "\n",
      "\tstate< final > Three {\n",
      "\t}\n",
      "}\n",
      "\n"
     ]
    },
    {
     "data": {
      "image/png": "[encoded data removed]",
      "text/plain": [
       "<IPython.core.display.Image object>"
      ]
     },
     "execution_count": 6,
     "metadata": {},
     "output_type": "execute_result"
    }
   ],
   "source": [
    "s10 = sm1.addInitialState(\"Begin\")\n",
    "s11 = sm1.addState(\"Middle\")\n",
    "s12 = sm1.addFinalState(\"End\")\n",
    "print(s10)\n",
    "\n",
    "s20 = sm2.addInitialState(\"One\")\n",
    "s21 = sm2.addState(\"Two\")\n",
    "s22 = sm2.addFinalState(\"Three\")\n",
    "print(sm2)\n",
    "\n",
    "display(system)"
   ]
  },
  {
   "cell_type": "markdown",
   "metadata": {},
   "source": [
    "Add transition to the state machine"
   ]
  },
  {
   "cell_type": "code",
   "execution_count": 7,
   "metadata": {},
   "outputs": [
    {
     "name": "stdout",
     "output_type": "stream",
     "text": [
      "transition T01 --> Middle;\n",
      "\n",
      "@xlia< system , 1.0 >:\n",
      "\n",
      "system HelloWorld {\n",
      "@composite:\n",
      "\tstatemachine< or > sm1 {\n",
      "\t@region:\n",
      "\t\tstate< initial > Begin {\n",
      "\t\t\ttransition T01 --> Middle;\n",
      "\t\t}\n",
      "\n",
      "\t\tstate Middle {\n",
      "\t\t\ttransition T12 --> End;\n",
      "\t\t}\n",
      "\n",
      "\t\tstate< final > End {\n",
      "\t\t}\n",
      "\t}\n",
      "\n",
      "\tstatemachine< or > sm2 {\n",
      "\t@region:\n",
      "\t\tstate< initial > One {\n",
      "\t\t}\n",
      "\n",
      "\t\tstate Two {\n",
      "\t\t\ttransition t22 --> Two;\n",
      "\t\t}\n",
      "\n",
      "\t\tstate< final > Three {\n",
      "\t\t}\n",
      "\t}\n",
      "}\n",
      "\n"
     ]
    },
    {
     "data": {
      "image/png": "[encoded data removed]",
      "text/plain": [
       "<IPython.core.display.Image object>"
      ]
     },
     "execution_count": 7,
     "metadata": {},
     "output_type": "execute_result"
    }
   ],
   "source": [
    "t01 = s10.addTransition(\"T01\", s11)\n",
    "t12 = s11.addTransition(\"T12\", s12)\n",
    "print(t01)\n",
    "\n",
    "#t12 = s1.addTransition(\"Finishing\", s2)\n",
    "#t34 = s3.addTransition(\"Terminating\", s3)\n",
    "#t15 = s1.addTransition(\"Making_a_choice\",s5)\n",
    "#t11 = s1.addTransition(\"I_like_myself\", s1)\n",
    "\n",
    "t21 = s21.addTransition(\"t22\", s21)\n",
    "#t45 = s4.addTransition(\"t45\", s2)\n",
    "\n",
    "print(system)\n",
    "display (system)"
   ]
  },
  {
   "cell_type": "markdown",
   "metadata": {},
   "source": [
    "Add ports to the state machine"
   ]
  },
  {
   "cell_type": "code",
   "execution_count": 8,
   "metadata": {
    "scrolled": true
   },
   "outputs": [
    {
     "name": "stdout",
     "output_type": "stream",
     "text": [
      "public output port p11(string, string);\n",
      "\n",
      "@xlia< system , 1.0 >:\n",
      "\n",
      "system HelloWorld {\n",
      "@composite:\n",
      "\tstatemachine< or > sm1 {\n",
      "\t@property:\n",
      "\t\tpublic output port p11(string, string);\n",
      "\t\tpublic output port p12(string, string);\n",
      "\n",
      "\t@region:\n",
      "\t\tstate< initial > Begin {\n",
      "\t\t\ttransition T01 --> Middle;\n",
      "\t\t}\n",
      "\n",
      "\t\tstate Middle {\n",
      "\t\t\ttransition T12 --> End;\n",
      "\t\t}\n",
      "\n",
      "\t\tstate< final > End {\n",
      "\t\t}\n",
      "\t}\n",
      "\n",
      "\tstatemachine< or > sm2 {\n",
      "\t@property:\n",
      "\t\tpublic input port p21(string, string);\n",
      "\n",
      "\t@region:\n",
      "\t\tstate< initial > One {\n",
      "\t\t}\n",
      "\n",
      "\t\tstate Two {\n",
      "\t\t\ttransition t22 --> Two;\n",
      "\t\t}\n",
      "\n",
      "\t\tstate< final > Three {\n",
      "\t\t}\n",
      "\t}\n",
      "}\n",
      "\n"
     ]
    }
   ],
   "source": [
    "p11 = sm1.addOutPort('p11', params=['string','string'])\n",
    "p12 = sm1.addOutPort('p12', params=['string','string'])\n",
    "p21 = sm2.addInPort(\"p21\", params=['string', 'string'])\n",
    "print(p11)\n",
    "print(system)"
   ]
  },
  {
   "cell_type": "markdown",
   "metadata": {},
   "source": [
    "Connect ports together"
   ]
  },
  {
   "cell_type": "code",
   "execution_count": 9,
   "metadata": {},
   "outputs": [
    {
     "name": "stdout",
     "output_type": "stream",
     "text": [
      "@xlia< system , 1.0 >:\n",
      "\n",
      "system HelloWorld {\n",
      "@composite:\n",
      "\tstatemachine< or > sm1 {\n",
      "\t@property:\n",
      "\t\tpublic output port p11(string, string);\n",
      "\t\tpublic output port p12(string, string);\n",
      "\n",
      "\t@region:\n",
      "\t\tstate< initial > Begin {\n",
      "\t\t\ttransition T01 --> Middle;\n",
      "\t\t}\n",
      "\n",
      "\t\tstate Middle {\n",
      "\t\t\ttransition T12 --> End;\n",
      "\t\t}\n",
      "\n",
      "\t\tstate< final > End {\n",
      "\t\t}\n",
      "\t}\n",
      "\n",
      "\tstatemachine< or > sm2 {\n",
      "\t@property:\n",
      "\t\tpublic input port p21(string, string);\n",
      "\n",
      "\t@region:\n",
      "\t\tstate< initial > One {\n",
      "\t\t}\n",
      "\n",
      "\t\tstate Two {\n",
      "\t\t\ttransition t22 --> Two;\n",
      "\t\t}\n",
      "\n",
      "\t\tstate< final > Three {\n",
      "\t\t}\n",
      "\t}\n",
      "\n",
      "@com:\n",
      "\tconnector< rdv , unicast >  {\n",
      "\t\tinput sm2->p21;\n",
      "\t\toutput sm1->p12;\n",
      "\t}\n",
      "\tconnector< rdv , unicast >  {\n",
      "\t\tinput sm2->p21;\n",
      "\t\toutput sm1->p11;\n",
      "\t}\n",
      "}\n",
      "\n"
     ]
    }
   ],
   "source": [
    "system.connectRdv(p12, p21)\n",
    "system.connectRdv(p11, p21)\n",
    "\n",
    "#system.connectEnv(p12)\n",
    "#sm1.connectRdv(p11, p12)\n",
    "print(system)"
   ]
  },
  {
   "cell_type": "code",
   "execution_count": 10,
   "metadata": {},
   "outputs": [
    {
     "name": "stdout",
     "output_type": "stream",
     "text": [
      "@startuml\n",
      "\n",
      "component \"HelloWorld\" as HelloWorld {\n",
      "component \"sm1\" as sm1 {\n",
      "component \"Begin\" as Begin\n",
      "component \"Middle\" as Middle\n",
      "component \"End\" as End\n",
      "}\n",
      "interface \"p11\" as sm1.p11\n",
      "sm1 #-- sm1.p11\n",
      "interface \"p12\" as sm1.p12\n",
      "sm1 #-- sm1.p12\n",
      "component \"sm2\" as sm2 {\n",
      "component \"One\" as One\n",
      "component \"Two\" as Two\n",
      "component \"Three\" as Three\n",
      "}\n",
      "interface \"p21\" as sm2.p21\n",
      "sm2 #-- sm2.p21\n",
      "sm2.p21 -. sm1.p12\n",
      "sm2.p21 -. sm1.p11\n",
      "}\n",
      "@enduml\n"
     ]
    },
    {
     "data": {
      "image/png": "[encoded data removed]",
      "text/plain": [
       "<IPython.core.display.Image object>"
      ]
     },
     "execution_count": 10,
     "metadata": {},
     "output_type": "execute_result"
    }
   ],
   "source": [
    "print(displayCommGraph(system))\n",
    "Image(PlantUML().processes(displayCommGraph(system)))"
   ]
  },
  {
   "cell_type": "code",
   "execution_count": 11,
   "metadata": {},
   "outputs": [
    {
     "data": {
      "image/png": "[encoded data removed]",
      "text/plain": [
       "<IPython.core.display.Image object>"
      ]
     },
     "execution_count": 11,
     "metadata": {},
     "output_type": "execute_result"
    }
   ],
   "source": [
    "interrecationString = \"\"\"@startuml \n",
    "    component HelloWorld as \"HelloWorld\"{\n",
    "        component \"sm1\" as sm1 {\n",
    "            component \"One\" as One{            \n",
    "            }\n",
    "            component \"Two\" as Two{\n",
    "            }\n",
    "            component \"Three\" as Three{\n",
    "            }\n",
    "\n",
    "        }\n",
    "        \n",
    "        component \"sm2\" as sm2{\n",
    "            component \"Begin\" as Begin{            \n",
    "            }\n",
    "            component \"Middle\" as Middle{\n",
    "            }\n",
    "            component \"End\" as End\n",
    "        }\n",
    "        interface \"p1\" as sm1.p1\n",
    "        sm1 #-- sm1.p1\n",
    "        \n",
    "        interface \"p2\" as sm2.p2\n",
    "        sm2 -- sm2.p2        \n",
    "        \n",
    "        sm1.p1 -. sm2.p2 \n",
    "    }\n",
    "    @enduml\n",
    "\"\"\"\n",
    "Image(PlantUML().processes(interrecationString))"
   ]
  },
  {
   "cell_type": "markdown",
   "metadata": {},
   "source": [
    "Add statement to transitions"
   ]
  },
  {
   "cell_type": "code",
   "execution_count": 12,
   "metadata": {},
   "outputs": [
    {
     "name": "stdout",
     "output_type": "stream",
     "text": [
      "transition T12 --> End { |;|\n",
      "\tsm1.v2 := 43;\n",
      "\tguard (sm1.v2 == 43);\n",
      "\ttguard (sm1.cl > 0);\n",
      "}\n",
      "\n",
      "statemachine< or > sm1 {\n",
      "@property:\n",
      "\tpublic output port p11(string, string);\n",
      "\tpublic output port p12(string, string);\n",
      "\tvar int v1 = 43;\n",
      "\tvar int v2;\n",
      "\tconst int c1 = 41;\n",
      "\tconst bool c2 = true;\n",
      "\tconst string c3 = \"Hello\";\n",
      "\tvar clock cl;\n",
      "\n",
      "@region:\n",
      "\tstate< initial > Begin {\n",
      "\t\ttransition T01 --> Middle;\n",
      "\t}\n",
      "\n",
      "\tstate Middle {\n",
      "\t\ttransition T12 --> End { |;|\n",
      "\t\t\tsm1.v2 := 43;\n",
      "\t\t\tguard (sm1.v2 == 43);\n",
      "\t\t\ttguard (sm1.cl > 0);\n",
      "\t\t}\n",
      "\t}\n",
      "\n",
      "\tstate< final > End {\n",
      "\t}\n",
      "}\n",
      "\n"
     ]
    }
   ],
   "source": [
    "v1 = sm1.addIntVar(\"v1\", init=43)\n",
    "v2 = sm1.addIntVar(\"v2\")\n",
    "c1 = sm1.addIntConst(\"c1\", 41)\n",
    "c2 = sm1.addBoolConst(\"c2\", True)\n",
    "c3 = sm1.addStringConst(\"c3\", \"Hello\")\n",
    "cl = sm1.addClock(\"cl\")\n",
    "\n",
    "#ok = t12.addSend(p12, [\"2*v1 + 1\"])\n",
    "#ok = t12.addReceive(p12, [\"v2\"])\n",
    "ok = t12.addStatement(\"v2 = 43\")\n",
    "ok = t12.addGuard(\"v2 == 43\")\n",
    "ok = t12.addClockGuard(\"cl > 0\")\n",
    "\n",
    "print(t12)\n",
    "print(sm1)"
   ]
  },
  {
   "cell_type": "markdown",
   "metadata": {},
   "source": [
    "Ajout d'une variable"
   ]
  },
  {
   "cell_type": "code",
   "execution_count": 13,
   "metadata": {
    "scrolled": false
   },
   "outputs": [
    {
     "name": "stdout",
     "output_type": "stream",
     "text": [
      "True\n",
      "var int spec::HelloWorld.sm1.v1 = 43\n",
      "v1\n",
      "v1 + 2 * v2\n",
      "v2 - v1\n",
      "v1 + 21\n",
      "21 + v2\n",
      "3 + v1\n",
      "v1 + v1\n"
     ]
    },
    {
     "data": {
      "text/plain": [
       "['v1 + 1']"
      ]
     },
     "execution_count": 13,
     "metadata": {},
     "output_type": "execute_result"
    }
   ],
   "source": [
    "print(ok)\n",
    "print(v1) # Full detailed description\n",
    "print(repr(v1)) # Identifier name\n",
    "print(v1 + 2 * v2)\n",
    "print(v2 - v1)\n",
    "print(v1 + 21)\n",
    "print(21 + v2)\n",
    "print(1 + 2 + v1)\n",
    "#print(v2 + 2 + 1)\n",
    "print(v1 + v1)\n",
    "#print(1 + (2 + v1))\n",
    "[v1+1]\n",
    "\n"
   ]
  },
  {
   "cell_type": "markdown",
   "metadata": {},
   "source": [
    "## Create your configuration"
   ]
  },
  {
   "cell_type": "markdown",
   "metadata": {},
   "source": [
    "Configuration is holding the general parameters of the computation."
   ]
  },
  {
   "cell_type": "code",
   "execution_count": 14,
   "metadata": {},
   "outputs": [
    {
     "name": "stdout",
     "output_type": "stream",
     "text": [
      "in setAnalysisType\n",
      "in setVerbosity\n",
      "Configuration check:  all ok.\n",
      "workflow {\n",
      "        workspace [\n",
      "                root = \"./\"\n",
      "                launch = \"./\"\n",
      "                output = \"./\"\n",
      "        ]\n",
      "        director  {\n",
      "                manifest [\n",
      "                        autoconf = true\n",
      "                        autostart = true\n",
      "                ]\n",
      "                project [\n",
      "                        source = \".\"\n",
      "                ]\n",
      "                supervisor {\n",
      "                        limit [\n",
      "                                step = 42\n",
      "                        ]\n",
      "                        queue [\n",
      "                                strategy = 'DEPTH_FIRST_SEARCH'\n",
      "                        ]\n",
      "                }\n",
      "                worker [\n",
      "                ]\n",
      "        }\n",
      "        symbex [\n",
      "                constraint_solver = 'Z3'\n",
      "        ]\n",
      "        console [\n",
      "                verbose = 'SILENT'\n",
      "        ]\n",
      "        developer [\n",
      "        ]\n",
      "}\n",
      "\n"
     ]
    }
   ],
   "source": [
    "c = Configuration()\n",
    "c.setWorkspace(rootdir='./', outdir='./')\n",
    "c.setAnalysisType('exploration',slice=False)\n",
    "c.setStrategy('DFS')\n",
    "c.setSolver('Z3')\n",
    "c.setVerbosity('SILENT')\n",
    "#c.setDevOpts(level='HIGH', log='monLog.log', debug='myDebug.dbg')\n",
    "#c.setDevFlags('GOD_MODE')\n",
    "c.check()\n",
    "print(c)"
   ]
  },
  {
   "cell_type": "markdown",
   "metadata": {},
   "source": [
    "## Engine : la classe mère"
   ]
  },
  {
   "cell_type": "code",
   "execution_count": 15,
   "metadata": {
    "scrolled": true
   },
   "outputs": [
    {
     "name": "stdout",
     "output_type": "stream",
     "text": [
      "Configuration successfully loaded\n",
      "<pyversity.engine.Engine object at 0x7fe034145e68>\n",
      "System successfully loaded.\n",
      "Set system: None\n",
      "REPORT\n",
      "\tSUPERVISOR  PROCESSOR\n",
      "\t\tThe RUN#EXIT count : 1\n",
      "\n"
     ]
    }
   ],
   "source": [
    "engine = Engine(c)\n",
    "print(engine)\n",
    "ok = engine.setSystem(system)\n",
    "print (\"Set system:\", ok)\n",
    "result = engine.start()\n",
    "print(result.report())\n",
    "#Image(PlantUML().processes(result.display()))\n",
    "\n",
    "\n",
    "#serializer = TTCN3Serializer()\n",
    "#serializer.generate(result)"
   ]
  }
 ],
 "metadata": {
  "kernelspec": {
   "display_name": "Python 3",
   "language": "python",
   "name": "python3"
  },
  "language_info": {
   "codemirror_mode": {
    "name": "ipython",
    "version": 3
   },
   "file_extension": ".py",
   "mimetype": "text/x-python",
   "name": "python",
   "nbconvert_exporter": "python",
   "pygments_lexer": "ipython3",
   "version": "3.7.2"
  },
  "toc": {
   "base_numbering": 1,
   "nav_menu": {},
   "number_sections": true,
   "sideBar": true,
   "skip_h1_title": false,
   "title_cell": "Table of Contents",
   "title_sidebar": "Contents",
   "toc_cell": false,
   "toc_position": {},
   "toc_section_display": true,
   "toc_window_display": false
  }
 },
 "nbformat": 4,
 "nbformat_minor": 2
}
