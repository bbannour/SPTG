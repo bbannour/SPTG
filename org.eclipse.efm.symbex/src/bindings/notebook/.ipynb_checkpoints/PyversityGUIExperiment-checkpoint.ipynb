{
 "cells": [
  {
   "cell_type": "markdown",
   "metadata": {},
   "source": [
    "# Pyversity GUI"
   ]
  },
  {
   "cell_type": "markdown",
   "metadata": {},
   "source": [
    "## GUI Specification"
   ]
  },
  {
   "cell_type": "markdown",
   "metadata": {},
   "source": [
    "### Tab : Overview"
   ]
  },
  {
   "cell_type": "markdown",
   "metadata": {},
   "source": [
    "#### Sub tab : Exploration"
   ]
  },
  {
   "cell_type": "markdown",
   "metadata": {},
   "source": [
    "Exploration\n",
    "Exploration strategy : BFS, DFS, RFS, ALL\n",
    "Redundancy Detection : (seulement sur expresion linéaire d'entiers et de booléens), complexité 2pow(2pow(n))\n",
    "Recherche les EC dont les data sont identiques\n",
    "[] General loop detection (Par comparaison de data )\n",
    "=> Path Scope : CURRENT / ALL / PARENT\n",
    "=> Comparison operator : Inclusion/Equality/Syntactic Equality (ne voit que a+b = b+a, mais fonctionne sur tout type de données)\n",
    "[] Trivial Loop detection (Par comparaison des pointeurs mémoires)"
   ]
  },
  {
   "cell_type": "markdown",
   "metadata": {},
   "source": [
    "#### Sub tab : Transition Coverage"
   ]
  },
  {
   "cell_type": "raw",
   "metadata": {},
   "source": [
    " Transition Coverage\n",
    "=> fixe strategy = WBFS\n",
    "Scope : Model Transition / Instance Transition"
   ]
  },
  {
   "cell_type": "markdown",
   "metadata": {},
   "source": [
    "#### Sub tab : Behavior Selection "
   ]
  },
  {
   "cell_type": "raw",
   "metadata": {},
   "source": [
    "Behavior Selection\n",
    "=> fixe strategy = ALL (ou WBFS à confirmer)\n",
    "Liste de propriétés à vérifier : transition tirée, état atteint, input/output, contrainte satisfiable\n",
    "trace = [transition = ID, state = ID, formula = predicat, input portID, output portID,  ]. NE traite pas les valeurs échangées par les ports.\n",
    "\n",
    "Options & selection heuristic\n",
    "[x] Ordered (la séquence doit être couverte dans l'ordre de la trace)\n",
    "[x] Consecutive (Il existe au moins un chemin satisfiant à cette séquence (trace) avec chaque EC couvrant au moins un trace point, sauf l'état initial)\n",
    "[x] Folding (Un EC peut couvrir plusieurs trace points)\n",
    "Hit-Or-Jump:\n",
    "height:\n",
    "trials:\n",
    "Hits: (nombre de chemins pris plusieurs couvrent le même prefixe de la trace restante)\n",
    "Jump: (nombre de feuilles choisis si aucun hit)"
   ]
  },
  {
   "cell_type": "markdown",
   "metadata": {},
   "source": [
    "#### Sub tab : Trace Compliance (aka Test Offline)"
   ]
  },
  {
   "cell_type": "raw",
   "metadata": {},
   "source": [
    "Test Offline / Trace Compliance  (Trace = Valued Input/Output sequence)\n",
    "=> fixe strategy = ALL\n",
    "Selection du fichier de trace"
   ]
  },
  {
   "cell_type": "markdown",
   "metadata": {},
   "source": [
    "#### Other"
   ]
  },
  {
   "cell_type": "markdown",
   "metadata": {},
   "source": [
    "Extra info ... TO be defined"
   ]
  },
  {
   "cell_type": "markdown",
   "metadata": {},
   "source": [
    "### Tab : Supervisor "
   ]
  },
  {
   "cell_type": "markdown",
   "metadata": {},
   "source": [
    " \n",
    "Evaluation Limits  \n",
    "Symbex Step Count  -1,1,2,3, ...  \n",
    "Timeout  \n",
    "\n",
    "Graph Size Limits  \n",
    "Nodes -1,1,2,3, ...  \n",
    "Width   -1,1,2,3, ...  \n",
    "Height  -1,1,2,3, ...  \n",
    "\n"
   ]
  },
  {
   "cell_type": "markdown",
   "metadata": {},
   "source": [
    "### Tab : Test Specification Generation"
   ]
  },
  {
   "cell_type": "markdown",
   "metadata": {},
   "source": [
    "=> A Mettre dans une deuxième GUI associée au Result ?"
   ]
  },
  {
   "cell_type": "markdown",
   "metadata": {},
   "source": [
    "### Tab : Verbosity / debug"
   ]
  },
  {
   "cell_type": "markdown",
   "metadata": {},
   "source": [
    "Tab Expert Debug :  \n",
    "(cf capture)  \n",
    "debug trace options : flag='XXXX', flag='YYYYY', ...  "
   ]
  },
  {
   "cell_type": "markdown",
   "metadata": {},
   "source": [
    "### Tab : Configuration Genereated Text"
   ]
  },
  {
   "cell_type": "markdown",
   "metadata": {},
   "source": [
    "Update each time any widget is changed"
   ]
  },
  {
   "cell_type": "markdown",
   "metadata": {},
   "source": [
    "### Divers"
   ]
  },
  {
   "cell_type": "markdown",
   "metadata": {},
   "source": [
    "#### Manifest"
   ]
  },
  {
   "cell_type": "markdown",
   "metadata": {},
   "source": [
    "Manifest : pas laissé à l'utilisateur"
   ]
  },
  {
   "cell_type": "markdown",
   "metadata": {},
   "source": [
    "#### Console(s)"
   ]
  },
  {
   "cell_type": "raw",
   "metadata": {},
   "source": [
    "Les différentes consoles :\n",
    "    \n",
    "Workflow {\n",
    "    supervisor {\n",
    "        console [\n",
    "            // info sur la progression dans le graphe\n",
    "        ]\n",
    "    }\n",
    "    worker { \n",
    "        analysisobject {\n",
    "                console [\n",
    "                    // info sur la progression de la couverture\n",
    "                ]\n",
    "            }\n",
    "    }\n",
    "    console [\n",
    "      // Verbosity    \n",
    "    ]\n",
    "}"
   ]
  },
  {
   "cell_type": "markdown",
   "metadata": {},
   "source": [
    "## GUI Use"
   ]
  },
  {
   "cell_type": "markdown",
   "metadata": {},
   "source": [
    "### Load diversity python module"
   ]
  },
  {
   "cell_type": "code",
   "execution_count": 1,
   "metadata": {
    "collapsed": true,
    "scrolled": false
   },
   "outputs": [],
   "source": [
    "from pyversity import *"
   ]
  },
  {
   "cell_type": "markdown",
   "metadata": {},
   "source": [
    "### System Definition"
   ]
  },
  {
   "cell_type": "markdown",
   "metadata": {},
   "source": [
    "Create a system"
   ]
  },
  {
   "cell_type": "code",
   "execution_count": 2,
   "metadata": {
    "collapsed": true,
    "scrolled": true
   },
   "outputs": [],
   "source": [
    "system = System(\"HelloWorld\")\n",
    "sm1 = system.addStateMachine(\"sm1\")\n",
    "sm2 = system.addStateMachine(\"sm2\")\n",
    "s10 = sm1.addInitialState(\"Begin\")\n",
    "s11 = sm1.addState(\"Middle\")\n",
    "s12 = sm1.addFinalState(\"End\")\n",
    "s20 = sm2.addInitialState(\"One\")\n",
    "s21 = sm2.addState(\"Two\")\n",
    "s22 = sm2.addFinalState(\"Three\")\n",
    "t01 = s10.addTransition(\"T01\", s11)\n",
    "t12 = s11.addTransition(\"T12\", s12)\n",
    "t21 = s21.addTransition(\"t22\", s21)\n",
    "p11 = sm1.addInPort('p11', params=['float', 'uint'])\n",
    "p12 = sm1.addOutPort('p12', params=['string','string'])\n",
    "p21 = sm2.addInPort(\"p21\", params=['string', 'string'])\n",
    "v1 = sm1.addIntVar(\"v1\", init=43)\n",
    "v2 = sm1.addIntVar(\"v2\")\n",
    "c = sm1.addIntConst(\"c\", 41)\n",
    "cl = sm1.addClock(\"cl\")\n",
    "ok = t12.addSend(p12, [\"2*v1 + 1\"])\n",
    "ok = t12.addReceive(p12, [\"v2\"])\n",
    "ok = t12.addStatement(\"v2 = 43\")\n",
    "ok = t12.addGuard(\"v2 == 43\")\n",
    "ok = t12.addClockGuard(\"cl > 0\")\n",
    "system.connectRdv(p12, p21)\n"
   ]
  },
  {
   "cell_type": "code",
   "execution_count": 3,
   "metadata": {},
   "outputs": [
    {
     "data": {
      "image/png": "[encoded data removed]",
      "text/plain": [
       "<IPython.core.display.Image object>"
      ]
     },
     "execution_count": 3,
     "metadata": {},
     "output_type": "execute_result"
    }
   ],
   "source": [
    "display(system) "
   ]
  },
  {
   "cell_type": "markdown",
   "metadata": {},
   "source": [
    "### Configuration GUI"
   ]
  },
  {
   "cell_type": "markdown",
   "metadata": {},
   "source": [
    "Configuration is holding the general parameters of the computation."
   ]
  },
  {
   "cell_type": "code",
   "execution_count": 4,
   "metadata": {
    "scrolled": false
   },
   "outputs": [
    {
     "data": {
      "application/vnd.jupyter.widget-view+json": {
       "model_id": "cf8fddd0354a45fa9af28180855b99d8",
       "version_major": 2,
       "version_minor": 0
      },
      "text/plain": [
       "A Jupyter Widget"
      ]
     },
     "metadata": {},
     "output_type": "display_data"
    },
    {
     "name": "stdout",
     "output_type": "stream",
     "text": [
      "Configuration successfully loaded\n",
      "System successfully loaded.\n",
      "Analysis starting...\n",
      "Result:  <diversity.Py_Result object at 0x7fe712e7ca28>\n"
     ]
    }
   ],
   "source": [
    "cg = ConfigurationGui(system)"
   ]
  },
  {
   "cell_type": "markdown",
   "metadata": {},
   "source": [
    "\n"
   ]
  },
  {
   "cell_type": "markdown",
   "metadata": {},
   "source": [
    "## Temporary experiments"
   ]
  },
  {
   "cell_type": "code",
   "execution_count": 5,
   "metadata": {},
   "outputs": [
    {
     "data": {
      "application/vnd.jupyter.widget-view+json": {
       "model_id": "6363983b7de844329a42ca46b48a3f8e",
       "version_major": 2,
       "version_minor": 0
      },
      "text/plain": [
       "A Jupyter Widget"
      ]
     },
     "metadata": {},
     "output_type": "display_data"
    }
   ],
   "source": [
    "#Some experiment with widgets\n",
    "\n",
    "from ipywidgets import IntProgress, interact\n",
    "IntProgress(\n",
    "    value=7.5,\n",
    "    min=0,\n",
    "    max=10.0,\n",
    "    step=0.1,\n",
    "    description='Symbolic execution:',\n",
    "    bar_style='info',\n",
    "    orientation='horizontal'\n",
    ")"
   ]
  },
  {
   "cell_type": "code",
   "execution_count": 6,
   "metadata": {},
   "outputs": [
    {
     "data": {
      "application/vnd.jupyter.widget-view+json": {
       "model_id": "14fb7210fcbf465a84990065be64da1f",
       "version_major": 2,
       "version_minor": 0
      },
      "text/plain": [
       "A Jupyter Widget"
      ]
     },
     "metadata": {},
     "output_type": "display_data"
    }
   ],
   "source": [
    "from ipywidgets import widgets\n",
    "import numpy as np\n",
    "import matplotlib.pyplot as plt\n",
    "from IPython.display import display\n",
    "%matplotlib inline\n",
    "\n",
    "@widgets.interact_manual(\n",
    "    color=['blue', 'red', 'green'], lw=(1., 10.))\n",
    "def plot(freq=1., color='blue', lw=2, grid=True):\n",
    "    t = np.linspace(-1., +1., 1000)\n",
    "    fig, ax = plt.subplots(1, 1, figsize=(8, 6))\n",
    "    ax.plot(t, np.sin(2 * np.pi * freq * t),\n",
    "            lw=lw, color=color)\n",
    "    ax.grid(grid)"
   ]
  },
  {
   "cell_type": "code",
   "execution_count": 7,
   "metadata": {
    "scrolled": false
   },
   "outputs": [
    {
     "data": {
      "application/vnd.jupyter.widget-view+json": {
       "model_id": "bf5c345083f149f48cb60c098647b8d5",
       "version_major": 2,
       "version_minor": 0
      },
      "text/plain": [
       "A Jupyter Widget"
      ]
     },
     "metadata": {},
     "output_type": "display_data"
    },
    {
     "name": "stdout",
     "output_type": "stream",
     "text": [
      "['_dom_classes', '_model_module', '_model_module_version', '_model_name', '_view_count', '_view_module', '_view_module_version', '_view_name', 'button_style', 'description', 'disabled', 'icon', 'layout', 'style', 'tooltip']\n"
     ]
    }
   ],
   "source": [
    "import ipywidgets as widgets\n",
    "from IPython.display import display\n",
    "\n",
    "def printChange(change):\n",
    "  print(\"change:\", change)\n",
    "\n",
    "tab = widgets.Tab()\n",
    "tab.children = [widgets.Box(), widgets.Box()]\n",
    "tab.set_title(0, \"zéro\")\n",
    "tab.set_title(1, \"un\")\n",
    "tab.observe(printChange, \"selected_index\")\n",
    "display(tab)\n",
    "\n",
    "btn = widgets.Button()\n",
    "print(btn.keys)\n",
    "\n",
    "\n",
    "#dir(tab)\n",
    "#tab.keys\n",
    "\n"
   ]
  },
  {
   "cell_type": "code",
   "execution_count": null,
   "metadata": {
    "collapsed": true
   },
   "outputs": [],
   "source": []
  }
 ],
 "metadata": {
  "kernelspec": {
   "display_name": "Python 3",
   "language": "python",
   "name": "python3"
  },
  "language_info": {
   "codemirror_mode": {
    "name": "ipython",
    "version": 3
   },
   "file_extension": ".py",
   "mimetype": "text/x-python",
   "name": "python",
   "nbconvert_exporter": "python",
   "pygments_lexer": "ipython3",
   "version": "3.6.3"
  },
  "toc": {
   "base_numbering": 1,
   "nav_menu": {},
   "number_sections": true,
   "sideBar": true,
   "skip_h1_title": false,
   "title_cell": "Table of Contents",
   "title_sidebar": "Contents",
   "toc_cell": false,
   "toc_position": {
    "height": "calc(100% - 180px)",
    "left": "10px",
    "top": "150px",
    "width": "165px"
   },
   "toc_section_display": true,
   "toc_window_display": true
  }
 },
 "nbformat": 4,
 "nbformat_minor": 2
}
