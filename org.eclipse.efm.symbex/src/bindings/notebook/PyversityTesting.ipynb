{
 "cells": [
  {
   "cell_type": "code",
   "execution_count": 1,
   "metadata": {
    "scrolled": true
   },
   "outputs": [],
   "source": [
    "from maat.tests import *"
   ]
  },
  {
   "cell_type": "markdown",
   "metadata": {},
   "source": [
    "## 'System' testing"
   ]
  },
  {
   "cell_type": "code",
   "execution_count": 2,
   "metadata": {
    "scrolled": true
   },
   "outputs": [
    {
     "name": "stderr",
     "output_type": "stream",
     "text": [
      "t_sm_general_creation (maat.tests.tests_system.TestStateMachineGeneral) ... ok\n",
      "t_sm_general_creation_badname (maat.tests.tests_system.TestStateMachineGeneral) ... ok\n",
      "t_sm_general_creation_noname (maat.tests.tests_system.TestStateMachineGeneral) ... ok\n",
      "t_sm_port_2_samename (maat.tests.tests_system.TestStateMachinePorts) ... ok\n",
      "t_sm_port_badsignature (maat.tests.tests_system.TestStateMachinePorts) ... ok\n",
      "t_sm_port_creation (maat.tests.tests_system.TestStateMachinePorts) ... ok\n",
      "t_sm_port_nosignature (maat.tests.tests_system.TestStateMachinePorts) ... ok\n",
      "t_sm_states_andstate_creation (maat.tests.tests_system.TestStateMachineStates) ... ok\n",
      "t_sm_states_choicestate_creation (maat.tests.tests_system.TestStateMachineStates) ... ok\n",
      "t_sm_states_finalstate_creation (maat.tests.tests_system.TestStateMachineStates) ... ok\n",
      "t_sm_states_initialstate_creation (maat.tests.tests_system.TestStateMachineStates) ... ok\n",
      "t_sm_states_junctionstate_creation (maat.tests.tests_system.TestStateMachineStates) ... ok\n",
      "t_sm_states_orstate_creation (maat.tests.tests_system.TestStateMachineStates) ... ok\n",
      "t_sm_states_regularstate (maat.tests.tests_system.TestStateMachineStates) ... ok\n",
      "t_sm_states_regularstate_2_samename (maat.tests.tests_system.TestStateMachineStates) ... ok\n",
      "t_sm_states_regularstate_noname (maat.tests.tests_system.TestStateMachineStates) ... ok\n",
      "t_sm_states_startstate_creation (maat.tests.tests_system.TestStateMachineStates) ... ok\n",
      "t_sm_states_terminalstate_creation (maat.tests.tests_system.TestStateMachineStates) ... ok\n",
      "t_sm_transition_addReceive (maat.tests.tests_system.TestStateMachineTransitions) ... ok\n",
      "t_sm_transition_addReceive_inconsistentdata (maat.tests.tests_system.TestStateMachineTransitions) ... ERROR\n",
      "t_sm_transition_addSend (maat.tests.tests_system.TestStateMachineTransitions) ... ok\n",
      "t_sm_transition_addSend_inconsistentdata (maat.tests.tests_system.TestStateMachineTransitions) ... ok\n",
      "t_sm_transitions_autotransition (maat.tests.tests_system.TestStateMachineTransitions) ... ok\n",
      "t_sm_transitions_creation (maat.tests.tests_system.TestStateMachineTransitions) ... ok\n",
      "t_sm_transitions_goingintoinitialstate (maat.tests.tests_system.TestStateMachineTransitions) ... ok\n",
      "t_sm_transitions_goingintostartstate (maat.tests.tests_system.TestStateMachineTransitions) ... ok\n",
      "t_sm_transitions_startingfromfinalstate (maat.tests.tests_system.TestStateMachineTransitions) ... ok\n",
      "t_sm_transitions_startingfromterminalstate (maat.tests.tests_system.TestStateMachineTransitions) ... ok\n",
      "t_sm_var_creation_bool (maat.tests.tests_system.TestStateMachineVariables) ... ok\n",
      "t_sm_var_creation_bool_badinit (maat.tests.tests_system.TestStateMachineVariables) ... ok\n",
      "t_sm_var_creation_int (maat.tests.tests_system.TestStateMachineVariables) ... ok\n",
      "t_sm_var_creation_int_badinit (maat.tests.tests_system.TestStateMachineVariables) ... ok\n",
      "t_sm_var_creation_string (maat.tests.tests_system.TestStateMachineVariables) ... ok\n",
      "t_system_add_1_statemachine (maat.tests.tests_system.TestSystem) ... ok\n",
      "t_system_add_2_statemachines_samename (maat.tests.tests_system.TestSystem) ... ok\n",
      "t_system_connect_rdv (maat.tests.tests_system.TestSystem) ... ok\n",
      "t_system_connect_rdv_1port (maat.tests.tests_system.TestSystem) ... ok\n",
      "t_system_connect_rdv_3ports (maat.tests.tests_system.TestSystem) ... ok\n",
      "t_system_connect_rdv_differentsignatures (maat.tests.tests_system.TestSystem) ... ok\n",
      "t_system_creation (maat.tests.tests_system.TestSystem) ... ok\n",
      "t_system_creation_badname (maat.tests.tests_system.TestSystem) ... ok\n",
      "t_system_creation_noname (maat.tests.tests_system.TestSystem) ... ok\n",
      "t_system_creation_of_2_refused (maat.tests.tests_system.TestSystem)\n",
      "TODO : expected behavior ? : one unique system only ... FAIL\n",
      "\n",
      "======================================================================\n",
      "ERROR: t_sm_transition_addReceive_inconsistentdata (maat.tests.tests_system.TestStateMachineTransitions)\n",
      "----------------------------------------------------------------------\n",
      "Traceback (most recent call last):\n",
      "  File \"/volatile/home/admin-local/boostpython-works/org.eclipse.efm-symbex/org.eclipse.efm.symbex/src/bindings/notebook/maat/tests/tests_system.py\", line 317, in t_sm_transition_addReceive_inconsistentdata\n",
      "    raise NotImplementedError\n",
      "NotImplementedError\n",
      "\n",
      "======================================================================\n",
      "FAIL: t_system_creation_of_2_refused (maat.tests.tests_system.TestSystem)\n",
      "TODO : expected behavior ? : one unique system only\n",
      "----------------------------------------------------------------------\n",
      "Traceback (most recent call last):\n",
      "  File \"/volatile/home/admin-local/boostpython-works/org.eclipse.efm-symbex/org.eclipse.efm.symbex/src/bindings/notebook/maat/tests/tests_system.py\", line 38, in t_system_creation_of_2_refused\n",
      "    System(\"SolarSystem2\")\n",
      "AssertionError: SemanticError not raised\n",
      "\n",
      "----------------------------------------------------------------------\n",
      "Ran 43 tests in 0.055s\n",
      "\n",
      "FAILED (failures=1, errors=1)\n"
     ]
    },
    {
     "data": {
      "text/plain": [
       "<unittest.runner.TextTestResult run=43 errors=1 failures=1>"
      ]
     },
     "execution_count": 2,
     "metadata": {},
     "output_type": "execute_result"
    }
   ],
   "source": [
    "runner.run(testsuite_system)"
   ]
  },
  {
   "cell_type": "code",
   "execution_count": null,
   "metadata": {
    "collapsed": true
   },
   "outputs": [],
   "source": []
  },
  {
   "cell_type": "code",
   "execution_count": null,
   "metadata": {
    "collapsed": true
   },
   "outputs": [],
   "source": []
  }
 ],
 "metadata": {
  "kernelspec": {
   "display_name": "Python 3",
   "language": "python",
   "name": "python3"
  },
  "language_info": {
   "codemirror_mode": {
    "name": "ipython",
    "version": 3
   },
   "file_extension": ".py",
   "mimetype": "text/x-python",
   "name": "python",
   "nbconvert_exporter": "python",
   "pygments_lexer": "ipython3",
   "version": "3.6.3"
  },
  "toc": {
   "base_numbering": 1,
   "nav_menu": {},
   "number_sections": true,
   "sideBar": false,
   "skip_h1_title": true,
   "title_cell": "Table of Contents",
   "title_sidebar": "Contents",
   "toc_cell": false,
   "toc_position": {},
   "toc_section_display": true,
   "toc_window_display": false
  }
 },
 "nbformat": 4,
 "nbformat_minor": 2
}
